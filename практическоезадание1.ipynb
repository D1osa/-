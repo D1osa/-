{
 "cells": [
  {
   "cell_type": "code",
   "execution_count": 5,
   "id": "4746c074",
   "metadata": {},
   "outputs": [],
   "source": [
    "import numpy as np\n",
    "from numpy.linalg import norm"
   ]
  },
  {
   "cell_type": "code",
   "execution_count": 6,
   "id": "87debd0f",
   "metadata": {},
   "outputs": [
    {
     "name": "stdout",
     "output_type": "stream",
     "text": [
      "Скалярное произведение x1 и y1:\n",
      "33\n"
     ]
    }
   ],
   "source": [
    "#1. Найти скалярное произведение векторов  𝑥, 𝑦 ∈ ℝ :\n",
    "x1 = np.array([0, -3, 6])\n",
    "y1 = np.array([-4, 7, 9])\n",
    "print(f'Скалярное произведение x1 и y1:\\n{np.dot(x1, y1)}')"
   ]
  },
  {
   "cell_type": "code",
   "execution_count": 7,
   "id": "7018183b",
   "metadata": {},
   "outputs": [
    {
     "name": "stdout",
     "output_type": "stream",
     "text": [
      "Скалярное произведение x2 и y2:\n",
      "-23\n"
     ]
    }
   ],
   "source": [
    "x2 = np.array([7, -4, 0, 1])\n",
    "y2 = np.array([-3, 1, 11, 2])\n",
    "print(f'Скалярное произведение x2 и y2:\\n{np.dot(x2, y2)}')"
   ]
  },
  {
   "cell_type": "code",
   "execution_count": 8,
   "id": "38590c1a",
   "metadata": {},
   "outputs": [],
   "source": [
    "#2. Найти нормы векторов  (4,2,4)  и  (12,3,4)  и угол между ними.\n",
    "a = np.array([4, 2, 4])\n",
    "b = np.array([12, 3,4])"
   ]
  },
  {
   "cell_type": "code",
   "execution_count": 9,
   "id": "9a916249",
   "metadata": {},
   "outputs": [
    {
     "name": "stdout",
     "output_type": "stream",
     "text": [
      "l1 Манхеттенская норма вектора a:\n",
      "10.0\n",
      "l2 Евклидова норма вектора а:\n",
      "6.0\n"
     ]
    }
   ],
   "source": [
    "print(f'l1 Манхеттенская норма вектора a:\\n{norm(a, ord=1)}')\n",
    "print(f'l2 Евклидова норма вектора а:\\n{norm(a, ord=2)}')"
   ]
  },
  {
   "cell_type": "code",
   "execution_count": 10,
   "id": "e5516cdc",
   "metadata": {},
   "outputs": [
    {
     "name": "stdout",
     "output_type": "stream",
     "text": [
      "l1 Манхеттенская норма вектора b:\n",
      "19.0\n",
      "l2 Евклидова норма вектора b:\n",
      "13.0\n"
     ]
    }
   ],
   "source": [
    "print(f'l1 Манхеттенская норма вектора b:\\n{norm(b, ord=1)}')\n",
    "print(f'l2 Евклидова норма вектора b:\\n{norm(b, ord=2)}')"
   ]
  },
  {
   "cell_type": "code",
   "execution_count": 11,
   "id": "895cada2",
   "metadata": {},
   "outputs": [
    {
     "data": {
      "text/plain": [
       "0.8974358974358974"
      ]
     },
     "execution_count": 11,
     "metadata": {},
     "output_type": "execute_result"
    }
   ],
   "source": [
    "cos_phi = np.dot(a, b) / norm(a) / norm(b)\n",
    "cos_phi"
   ]
  }
 ],
 "metadata": {
  "kernelspec": {
   "display_name": "Python 3",
   "language": "python",
   "name": "python3"
  },
  "language_info": {
   "codemirror_mode": {
    "name": "ipython",
    "version": 3
   },
   "file_extension": ".py",
   "mimetype": "text/x-python",
   "name": "python",
   "nbconvert_exporter": "python",
   "pygments_lexer": "ipython3",
   "version": "3.8.8"
  }
 },
 "nbformat": 4,
 "nbformat_minor": 5
}
